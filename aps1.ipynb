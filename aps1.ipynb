{
 "cells": [
  {
   "attachments": {},
   "cell_type": "markdown",
   "metadata": {},
   "source": [
    "# APS 1 - Aletas"
   ]
  },
  {
   "attachments": {},
   "cell_type": "markdown",
   "metadata": {},
   "source": [
    "### Realizando os imports"
   ]
  },
  {
   "cell_type": "code",
   "execution_count": 1,
   "metadata": {},
   "outputs": [],
   "source": [
    "from math import cosh, sinh, sqrt, tanh, log\n",
    "import matplotlib as mpl\n",
    "import matplotlib.pyplot as plt\n",
    "import numpy as np"
   ]
  },
  {
   "attachments": {},
   "cell_type": "markdown",
   "metadata": {},
   "source": [
    "### Definindo parâmetros"
   ]
  },
  {
   "attachments": {},
   "cell_type": "markdown",
   "metadata": {},
   "source": [
    "Seleciona-se a secção transversal da aleta retangular, bem como os parâmetros de cálculo."
   ]
  },
  {
   "cell_type": "code",
   "execution_count": null,
   "metadata": {},
   "outputs": [],
   "source": [
    "L = 0.15 # Comprimento da aleta [m]\n",
    "t = 0.002 # Espessura da aleta [m]\n",
    "w = 0.24 # Largura da aleta [m]\n",
    "\n",
    "P = 2*t + 2*w # Perímetro da seção transversal [m]\n",
    "\n",
    "h = 20 # Coeficiente de convecção em [W/(m^2 * K)]\n",
    "\n",
    "A_Lt = L * t # Área lateral [m^2]\n",
    "A_wt = w * t # Área frontal [m^2]\n",
    "A_Lw = L * w # Área da base [m^2]\n",
    "A_ext = (2 * A_Lt) + A_wt + (2 * A_Lw) # Área da superfície externa [m^2]\n",
    "\n",
    "k_al = 240 # Condutividade do material em [W/(m * K)]\n",
    "T_inf = 25+273 # Temperatura do ambiente [K]\n",
    "T_b = 100+273 # temperatura da base [K]\n",
    "x = L # Condição de contorno na extremidade da aleta\n"
   ]
  }
 ],
 "metadata": {
  "kernelspec": {
   "display_name": "Python 3",
   "language": "python",
   "name": "python3"
  },
  "language_info": {
   "codemirror_mode": {
    "name": "ipython",
    "version": 3
   },
   "file_extension": ".py",
   "mimetype": "text/x-python",
   "name": "python",
   "nbconvert_exporter": "python",
   "pygments_lexer": "ipython3",
   "version": "3.10.6"
  },
  "orig_nbformat": 4,
  "vscode": {
   "interpreter": {
    "hash": "b0fa6594d8f4cbf19f97940f81e996739fb7646882a419484c72d19e05852a7e"
   }
  }
 },
 "nbformat": 4,
 "nbformat_minor": 2
}
