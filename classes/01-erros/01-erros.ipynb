{
 "cells": [
  {
   "attachments": {},
   "cell_type": "markdown",
   "metadata": {},
   "source": [
    "# Aula 1\n",
    "\n",
    "- **Objetivo**: Avaliar o erro na solução usando procedimentos iterativos."
   ]
  },
  {
   "cell_type": "code",
   "execution_count": null,
   "metadata": {},
   "outputs": [],
   "source": [
    "import math\n",
    "import numpy as np\n",
    "import matplotlib.pyplot as plt"
   ]
  },
  {
   "attachments": {},
   "cell_type": "markdown",
   "metadata": {},
   "source": [
    "## Aproximações e fontes de erro\n",
    "\n",
    "- **Modelo matemático**: Erros de aproximação do modelo\n",
    "\n",
    "- **Parâmetros e dados**: Erros de representação de dados\n",
    "- **Modelo numérico**: Erros de truncamento (aproximações para representar modelos matemáticos)\n",
    "- **Operações e cálculo da solução**: Erros de arredondamento (aproximações para representar operações numéricas)"
   ]
  },
  {
   "attachments": {},
   "cell_type": "markdown",
   "metadata": {},
   "source": [
    "## Definição de erro\n",
    "\n",
    "$$valor_{verdadeiro} = valor_{aproximado} + erro$$\n",
    "$$erro_{absoluto} = valor_{verdadeiro} - valor_{aproximado}$$\n",
    "$$erro_{relativo} = \\frac{erro_{absoluto}}{valor_{verdadeiro}}$$\n",
    "\n",
    "__Erro absoluto__: não leva em consideração a grandeza do valor examinado."
   ]
  },
  {
   "attachments": {},
   "cell_type": "markdown",
   "metadata": {},
   "source": [
    "## Exercício 1\n",
    "Desenvolva um programa em Python para obter um gráfico de _velocidade x tempo_ para a velocidade de queda do paraquedista. Use um passo de 2 segundos no tempo e considere que o coeficiente de arrasto $c=12,5 kg/s$, a massa do paraquedista é $68,1 kg$ e $g = 9,81 m/s^2$ (O paraquedista parte do repouso em $t = 0$)."
   ]
  },
  {
   "cell_type": "code",
   "execution_count": null,
   "metadata": {},
   "outputs": [],
   "source": []
  }
 ],
 "metadata": {
  "language_info": {
   "name": "python"
  },
  "orig_nbformat": 4
 },
 "nbformat": 4,
 "nbformat_minor": 2
}
