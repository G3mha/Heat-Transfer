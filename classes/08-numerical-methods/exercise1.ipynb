{
 "cells": [
  {
   "attachments": {},
   "cell_type": "markdown",
   "metadata": {},
   "source": [
    "# Aula 8 \n",
    "\n",
    "- **Objetivo**: Resolver a equação da difusão do calor 1D usando o método numérico das diferenças finitas."
   ]
  },
  {
   "cell_type": "code",
   "execution_count": 5,
   "metadata": {},
   "outputs": [],
   "source": [
    "import math\n",
    "import numpy as np\n",
    "import matplotlib.pyplot as plt"
   ]
  },
  {
   "attachments": {},
   "cell_type": "markdown",
   "metadata": {},
   "source": [
    "## Exercício 1\n",
    "Desenvolva um programa em Python para obter um gráfico de _velocidade x tempo_ para a velocidade de queda do paraquedista. Use um passo de 2 segundos no tempo e considere que o coeficiente de arrasto $c=12,5 kg/s$, a massa do paraquedista é $68,1 kg$ e $g = 9,81 m/s^2$ (O paraquedista parte do repouso em $t = 0$)."
   ]
  },
  {
   "cell_type": "code",
   "execution_count": 6,
   "metadata": {},
   "outputs": [
    {
     "data": {
      "image/png": "[encoded data removed]",
      "text/plain": [
       "<Figure size 432x288 with 1 Axes>"
      ]
     },
     "metadata": {
      "needs_background": "light"
     },
     "output_type": "display_data"
    }
   ],
   "source": [
    "# Initial parameters\n",
    "step = 2 # seconds\n",
    "c = 12.5 # kg/s\n",
    "m = 68.1 # kg\n",
    "g = 9.81 # m/s^2\n",
    "\n",
    "# Initial conditions\n",
    "v0 = 0 # m/s\n",
    "t0 = 0 # s\n",
    "\n",
    "# Create empty lists to store the results\n",
    "velocity_list = [v0]\n",
    "time_list = [t0]\n",
    "\n",
    "t = t0\n",
    "v = v0\n",
    "while t < 12:\n",
    "    # Update the time and velocity\n",
    "    v += (g - (c*v/m)) * step\n",
    "    t += step\n",
    "    # Append the time and velocity to the list\n",
    "    time_list.append(t)\n",
    "    velocity_list.append(v)\n",
    "\n",
    "# Plot the results\n",
    "plt.plot(time_list, velocity_list)\n",
    "plt.xlabel('Time (s)')\n",
    "plt.ylabel('Velocity (m/s)')\n",
    "plt.show()"
   ]
  }
 ],
 "metadata": {
  "kernelspec": {
   "display_name": "Python 3",
   "language": "python",
   "name": "python3"
  },
  "language_info": {
   "codemirror_mode": {
    "name": "ipython",
    "version": 3
   },
   "file_extension": ".py",
   "mimetype": "text/x-python",
   "name": "python",
   "nbconvert_exporter": "python",
   "pygments_lexer": "ipython3",
   "version": "3.9.16"
  },
  "orig_nbformat": 4
 },
 "nbformat": 4,
 "nbformat_minor": 2
}
