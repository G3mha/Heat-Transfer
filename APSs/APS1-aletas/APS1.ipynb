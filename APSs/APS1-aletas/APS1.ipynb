{
 "cells": [
  {
   "attachments": {},
   "cell_type": "markdown",
   "metadata": {},
   "source": [
    "# APS 1 - Aletas"
   ]
  },
  {
   "attachments": {},
   "cell_type": "markdown",
   "metadata": {},
   "source": [
    "### Realizando os imports"
   ]
  },
  {
   "cell_type": "code",
   "execution_count": 1,
   "metadata": {},
   "outputs": [],
   "source": [
    "from math import *\n",
    "import matplotlib as mpl\n",
    "import matplotlib.pyplot as plt\n",
    "import numpy as np"
   ]
  },
  {
   "attachments": {},
   "cell_type": "markdown",
   "metadata": {},
   "source": [
    "### Definindo parâmetros"
   ]
  },
  {
   "attachments": {},
   "cell_type": "markdown",
   "metadata": {},
   "source": [
    "Seleciona-se a secção transversal da aleta retangular, bem como os parâmetros de cálculo."
   ]
  },
  {
   "cell_type": "code",
   "execution_count": 2,
   "metadata": {},
   "outputs": [],
   "source": [
    "L = 0.2 # Comprimento da aleta [m]\n",
    "t = 0.002 # Espessura da aleta [m]\n",
    "w = 0.24 # Largura da aleta [m]\n",
    "\n",
    "P = 2*t + 2*w # Perímetro da seção transversal [m]\n",
    "\n",
    "h = 20 # Coeficiente de convecção em [W/(m^2 * K)]\n",
    "\n",
    "A_Lt = L * t # Área lateral [m^2]\n",
    "A_wt = w * t # Área frontal [m^2]\n",
    "A_Lw = L * w # Área da base [m^2]\n",
    "A_ext = (2 * A_Lt) + A_wt + (2 * A_Lw) # Área da superfície externa [m^2]\n",
    "\n",
    "k_al = 240 # Condutividade do material em [W/(m * K)]\n",
    "T_inf = 25+273 # Temperatura do ambiente [K]\n",
    "T_b = 100+273 # temperatura da base [K]\n",
    "x = L # Condição de contorno na extremidade da aleta [m]"
   ]
  },
  {
   "attachments": {},
   "cell_type": "markdown",
   "metadata": {},
   "source": [
    "### Questão I.1 \n",
    "Qual a temperatura na extremidade da aleta (```T_al```)? Apresente um gráfico da distribuição de temperatura (```T_analitica```) ao longo do comprimento da aleta. Use legenda, identifique os eixos e as unidades usadas."
   ]
  },
  {
   "cell_type": "code",
   "execution_count": 3,
   "metadata": {},
   "outputs": [],
   "source": [
    "def calcula_temperatura_pontual_aleta(h, P, k, A, L, x, T_b, T_inf):\n",
    "    \"\"\"\n",
    "    Output: T_al (temperatura em um ponto `x` do caso de transferência de calor por convecção)\n",
    "    \"\"\"\n",
    "    m = sqrt((h*P)/(k*A)) # Constante de Fourier\n",
    "    hmk = h / (m * k) # abstração de valor repetido\n",
    "    distribuicao_de_temperaturas = (cosh(m * (L - x)) + hmk * sinh(m * (L - x))) / (cosh(m * L) + hmk * sinh(m * L))\n",
    "    T_al = (distribuicao_de_temperaturas * (T_b - T_inf)) + T_inf\n",
    "    return T_al"
   ]
  },
  {
   "cell_type": "code",
   "execution_count": 4,
   "metadata": {},
   "outputs": [
    {
     "name": "stdout",
     "output_type": "stream",
     "text": [
      "Temperatura na extremidade da aleta: 321.184 K\n"
     ]
    }
   ],
   "source": [
    "T_al_ext = calcula_temperatura_pontual_aleta(h, P, k_al, A_wt, L, x, T_b, T_inf) # Temperatura na extremidade da aleta [K]\n",
    "print(f\"Temperatura na extremidade da aleta: {round(T_al_ext, 3)} K\")"
   ]
  },
  {
   "cell_type": "code",
   "execution_count": 5,
   "metadata": {},
   "outputs": [
    {
     "data": {
      "image/png": "[encoded data removed]",
      "text/plain": [
       "<Figure size 432x288 with 1 Axes>"
      ]
     },
     "metadata": {
      "needs_background": "light"
     },
     "output_type": "display_data"
    }
   ],
   "source": [
    "# Gráfico da distribuição de temperaturas ao longo do comprimento da aleta\n",
    "\n",
    "l_aleta_dist_temp = []\n",
    "step=0.001; l_aleta_x = np.arange(0, L+step, step)\n",
    "\n",
    "for x in l_aleta_x:\n",
    "    T_al = (calcula_temperatura_pontual_aleta(h, P, k_al, A_wt, L, x, T_b, T_inf))\n",
    "    l_aleta_dist_temp.append(T_al)\n",
    "\n",
    "# plote o gráfico com eixo x sendo ``l_aleta_x`` e eixo y sendo ``l_aleta_dist_temp``\n",
    "plt.plot(l_aleta_x, l_aleta_dist_temp)\n",
    "plt.xlabel(\"Comprimento da aleta [m]\")\n",
    "plt.ylabel(\"Temperatura [K]\")\n",
    "plt.title(\"Distribuição de temperaturas ao longo do comprimento da aleta\")\n",
    "plt.show()"
   ]
  },
  {
   "attachments": {},
   "cell_type": "markdown",
   "metadata": {},
   "source": [
    "### Questão I.2\n",
    "Determine a taxa de transferência de calor."
   ]
  },
  {
   "cell_type": "code",
   "execution_count": 6,
   "metadata": {},
   "outputs": [
    {
     "name": "stdout",
     "output_type": "stream",
     "text": [
      "Taxa de transferência de calor: 244.269 W\n"
     ]
    }
   ],
   "source": [
    "\n",
    "def calcula_transferencia_de_calor(h, P, k, A, L, x, T_inf, T_b):\n",
    "    \"\"\"\n",
    "    Output: taxa de transferência de calor por convecção\n",
    "    \"\"\"\n",
    "    M = sqrt(h*P*k*A) * (T_b - T_inf)\n",
    "    m = sqrt((h*P)/(k*A))\n",
    "    hmk = h / (m * k)\n",
    "    taxa_transferencia_de_calor = M * (sinh(m * L) + hmk * cosh(m * L) / cosh(m * L) + hmk * sinh(m * L))\n",
    "    return taxa_transferencia_de_calor\n",
    "\n",
    "taxa_transferencia_de_calor = calcula_transferencia_de_calor(h, P, k_al, A_wt, L, x, T_inf, T_b)\n",
    "\n",
    "print(f\"Taxa de transferência de calor: {round(taxa_transferencia_de_calor,3)} W\")\n"
   ]
  },
  {
   "attachments": {},
   "cell_type": "markdown",
   "metadata": {},
   "source": [
    "### Questão I.3\n",
    "Determine a eficiência da aleta."
   ]
  },
  {
   "cell_type": "code",
   "execution_count": 7,
   "metadata": {},
   "outputs": [
    {
     "name": "stdout",
     "output_type": "stream",
     "text": [
      "Eficiênica da aleta: 1.674\n"
     ]
    }
   ],
   "source": [
    "eficiencia = taxa_transferencia_de_calor/(h * A_ext * (T_b - T_inf))\n",
    "print(f\"Eficiênica da aleta: {round(eficiencia,3)}\")"
   ]
  },
  {
   "attachments": {},
   "cell_type": "markdown",
   "metadata": {},
   "source": [
    "### Questão I.4\n",
    "Determine a efetividade da aleta."
   ]
  },
  {
   "cell_type": "code",
   "execution_count": 8,
   "metadata": {},
   "outputs": [
    {
     "name": "stdout",
     "output_type": "stream",
     "text": [
      "Efetividade: 339.263\n"
     ]
    }
   ],
   "source": [
    "efetividade = taxa_transferencia_de_calor/(h * A_wt * (T_b - T_inf))\n",
    "print(f\"Efetividade: {round(efetividade,3)}\")"
   ]
  },
  {
   "attachments": {},
   "cell_type": "markdown",
   "metadata": {},
   "source": [
    "### Questão I.5\n",
    "Assumindo a hipótese de aleta infinita, determine a taxa de transferência de calor."
   ]
  },
  {
   "cell_type": "code",
   "execution_count": 9,
   "metadata": {},
   "outputs": [
    {
     "name": "stdout",
     "output_type": "stream",
     "text": [
      "Taxa de transferência de calor: 79.2 W, considerando a aleta infinita\n"
     ]
    }
   ],
   "source": [
    "taxa_transferencia_de_calor_aleta_infinita = ((h * P * k_al * A_wt)**0.5) * (T_b - T_inf)\n",
    "print(f\"Taxa de transferência de calor: {round(taxa_transferencia_de_calor_aleta_infinita,3)} W, considerando a aleta infinita\")"
   ]
  },
  {
   "attachments": {},
   "cell_type": "markdown",
   "metadata": {},
   "source": [
    "### Questão I.6\n",
    "Compare o resultado obtido no item 2 com o resultado do item 5, assumindo que foram \n",
    "obtidos com modelos diferentes."
   ]
  },
  {
   "cell_type": "code",
   "execution_count": 10,
   "metadata": {},
   "outputs": [
    {
     "name": "stdout",
     "output_type": "stream",
     "text": [
      "O resultado obtido em I.2 foi 3 vezes maior que em I.5, sendo:\n",
      "\n",
      " - a taxa de transferência de calor da aleta finita: 244.269 W;\n",
      " - e da aleta infinita 79.2 W;\n",
      "\n",
      "Devendo se ao fato de `tanh` da taxa de transferência de calor não tender a 1, que seria o fenômeno esperado.\n"
     ]
    }
   ],
   "source": [
    "print(f\"O resultado obtido em I.2 foi 3 vezes maior que em I.5, sendo:\\n\\n - a taxa de transferência de calor da aleta finita: {round(taxa_transferencia_de_calor,3)} W;\\n - e da aleta infinita {taxa_transferencia_de_calor_aleta_infinita} W;\\n\\nDevendo se ao fato de `tanh` da taxa de transferência de calor não tender a 1, que seria o fenômeno esperado.\")"
   ]
  },
  {
   "attachments": {},
   "cell_type": "markdown",
   "metadata": {},
   "source": [
    "### Questão I.7\n",
    "Apresente o desenvolvimento matemático para determinar qual deveria ser o comprimento da aleta para que a hipótese de aleta infinita forneça uma medida precisa para a taxa de transferência de calor."
   ]
  },
  {
   "attachments": {},
   "cell_type": "markdown",
   "metadata": {},
   "source": [
    "Para uma aleta infinita, temos que: \n",
    "\n",
    "$\\theta_L = 0$;\n",
    "\n",
    "$T(L) = T_{amb}$.\n",
    "\n",
    "Portanto, podemos considerar uma condição adiabática na extremidade da aleta. Com isso, concluímos que:\n",
    "\n",
    "$M \\approx M \\cdot \\tanh(m \\cdot L)$\n",
    "\n",
    "$\\tanh(m \\cdot L) \\geq 0.99$\n"
   ]
  },
  {
   "cell_type": "code",
   "execution_count": 11,
   "metadata": {},
   "outputs": [
    {
     "name": "stdout",
     "output_type": "stream",
     "text": [
      "O comprimento mínimo que a aleta deve adotar é: 0.289 m.\n"
     ]
    }
   ],
   "source": [
    "m = ((h*P)/(k_al*A_wt))**0.5 # Constante de Fourier\n",
    "L_minimo = atanh(0.99)/m\n",
    "print(f\"O comprimento mínimo que a aleta deve adotar é: {round(L_minimo,3)} m.\")"
   ]
  }
 ],
 "metadata": {
  "kernelspec": {
   "display_name": "Python 3",
   "language": "python",
   "name": "python3"
  },
  "language_info": {
   "codemirror_mode": {
    "name": "ipython",
    "version": 3
   },
   "file_extension": ".py",
   "mimetype": "text/x-python",
   "name": "python",
   "nbconvert_exporter": "python",
   "pygments_lexer": "ipython3",
   "version": "3.9.16"
  },
  "orig_nbformat": 4,
  "vscode": {
   "interpreter": {
    "hash": "b0fa6594d8f4cbf19f97940f81e996739fb7646882a419484c72d19e05852a7e"
   }
  }
 },
 "nbformat": 4,
 "nbformat_minor": 2
}
